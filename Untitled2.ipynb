{
 "cells": [
  {
   "cell_type": "code",
   "execution_count": 1,
   "metadata": {},
   "outputs": [
    {
     "data": {
      "text/plain": [
       "21"
      ]
     },
     "execution_count": 1,
     "metadata": {},
     "output_type": "execute_result"
    }
   ],
   "source": [
    "from sklearn.feature_extraction.text import CountVectorizer, TfidfTransformer\n",
    "import numpy as np\n",
    "import pandas as pd\n",
    "from tests import en_test_inputs, fr_test_ins, it_test_ins, lv_test_ins\n",
    "import re\n",
    "%matplotlib inline\n",
    "\n",
    "languages = [\n",
    "    'sv', 'da', 'de', 'nl', 'en', 'fr', 'es', 'pt', 'it', 'ro', 'et',\n",
    "    'fi','lt', 'lv', 'pl', 'sk', 'cs', 'sl', 'hu', 'bg',  'el'\n",
    "]\n",
    "\n",
    "files = [\n",
    "    \"train/europarl-v7.{lang}-en.{lang}\".format(lang=x)\n",
    "    for x in languages\n",
    "]\n",
    "\n",
    "corpus_raw = [\n",
    "    open(x).read(1500000) for x in files\n",
    "]\n",
    "\n",
    "corpus = [\n",
    "    re.sub(r'[?”_\"%()!--+,:;./\\]\\[\\xad\\n0-9\\=<>]', '', x) for x in corpus_raw\n",
    "]\n",
    "\n",
    "zeros = np.zeros(len(languages))\n",
    "\n",
    "len(corpus)"
   ]
  },
  {
   "cell_type": "code",
   "execution_count": 9,
   "metadata": {},
   "outputs": [
    {
     "data": {
      "text/plain": [
       "<21x272923 sparse matrix of type '<class 'numpy.float64'>'\n",
       "\twith 576205 stored elements in Compressed Sparse Row format>"
      ]
     },
     "execution_count": 9,
     "metadata": {},
     "output_type": "execute_result"
    }
   ],
   "source": [
    "count_vectorizer = CountVectorizer(ngram_range=(4, 4), analyzer='char_wb')\n",
    "analyze = count_vectorizer.build_analyzer()\n",
    "counts = count_vectorizer.fit_transform(corpus)\n",
    "\n",
    "a = np.array(counts.todense().tolist())\n",
    "a = a/a.sum(axis=0)\n",
    "counts = a ** 0.4\n",
    "\n",
    "#counts.data = counts.data ** 0.4\n",
    "tfidf_transformer = TfidfTransformer(smooth_idf=False, sublinear_tf=False, use_idf=False)\n",
    "transformed_weights = tfidf_transformer.fit_transform(counts)\n",
    "\n",
    "three_gram_to_index = dict(zip(count_vectorizer.get_feature_names(), range(len(count_vectorizer.get_feature_names()))))\n",
    "\n",
    "transformed_weights"
   ]
  },
  {
   "cell_type": "code",
   "execution_count": null,
   "metadata": {
    "collapsed": true
   },
   "outputs": [],
   "source": [
    "def score(text, lang):\n",
    "    weight_indexes = [three_gram_to_index.get(three_gram, -1) for three_gram in analyze(text)]\n",
    "    weight_indexes = list(filter(lambda x: x != -1, weight_indexes))\n",
    "    return np.sum(transformed_weights[lang,weight_indexes])\n",
    "\n",
    "adjustment = np.asarray([\n",
    "    score(corpus_raw[i], i)/len(analyze(corpus_raw[i]))\n",
    "    for i,lang in enumerate(languages)\n",
    "])\n"
   ]
  },
  {
   "cell_type": "code",
   "execution_count": 4,
   "metadata": {
    "collapsed": true
   },
   "outputs": [],
   "source": [
    "def scoresV2(text):\n",
    "    weight_indexes_all = [three_gram_to_index.get(three_gram, -1) for three_gram in analyze(text)]\n",
    "    weight_indexes_filtered = list(filter(lambda x: x != -1, weight_indexes_all))\n",
    "    out = np.sum(transformed_weights[:, weight_indexes_filtered], axis=1).T/adjustment\n",
    "    lang = languages[np.argmax(out)]\n",
    "    return lang, out"
   ]
  },
  {
   "cell_type": "code",
   "execution_count": null,
   "metadata": {},
   "outputs": [
    {
     "name": "stdout",
     "output_type": "stream",
     "text": [
      "right: 2999, wrong: 2, er: 0.06664445184938354%\n",
      "right: 5999, wrong: 2, er: 0.03332777870354941%\n",
      "right: 8999, wrong: 2, er: 0.022219753360737695%\n",
      "right: 11999, wrong: 2, er: 0.016665277893508874%\n",
      "right: 14998, wrong: 3, er: 0.01999866675554963%\n"
     ]
    }
   ],
   "source": [
    "right = 1\n",
    "wrong = []\n",
    "def run_tests():\n",
    "    global right, wrong\n",
    "    tests = open('europarl.test')\n",
    "    for x in range(100):\n",
    "        try:\n",
    "            for y in range(3000):\n",
    "                line = tests.readline()\n",
    "                [lang, text] = line.split('\\t')\n",
    "                if scoresV2(text)[0] == lang:\n",
    "                    right = right + 1\n",
    "                else:\n",
    "                    wrong.append((line, scoresV2(text), lang))\n",
    "        except:\n",
    "            print(\"Final er: {er}%\".format(er=100*len(wrong)/(right+len(wrong))))\n",
    "            break\n",
    "        print(\n",
    "            \"right: {right}, wrong: {wrong}, er: {er}%\".format(\n",
    "                right=right, wrong=len(wrong),er = 100*len(wrong)/(right+len(wrong))\n",
    "            )\n",
    "        )\n",
    "run_tests()"
   ]
  },
  {
   "cell_type": "code",
   "execution_count": 6,
   "metadata": {},
   "outputs": [
    {
     "data": {
      "text/plain": [
       "[('cs\\t\"Diktátorství a manipulace\"?\\n',\n",
       "  ('sk', matrix([[  7.88983226,   7.46212799,   5.46535162,   6.95790038,\n",
       "              9.09432677,   7.05300993,   8.47774249,   7.13755017,\n",
       "              7.57636287,  10.16240306,   7.07980896,   5.39128196,\n",
       "              7.40713674,   8.01884967,   7.01600614,  13.5747822 ,\n",
       "             12.84442173,   7.9328793 ,   9.64807961,   0.45101119,\n",
       "              0.40036148]])),\n",
       "  'cs'),\n",
       " ('cs\\tDnes myslím na nás, tedy na vás a na sebe.\\n',\n",
       "  ('sk', matrix([[  6.91232029,   5.24424095,   6.00262021,   5.07096292,\n",
       "              7.5526454 ,   5.95803294,  12.16340129,   9.88997226,\n",
       "              6.084623  ,   5.77402052,   7.54883319,   7.30112752,\n",
       "              7.09976171,   5.99280088,  13.82502898,  29.10978335,\n",
       "             27.97806266,  15.00538717,  11.25898849,   0.61771173,\n",
       "              0.24975509]])),\n",
       "  'cs'),\n",
       " ('cs\\tJmenovali se William Meyer, Bernard Starie, Reginald Pike, Thomas Shaw, James McLeish, Archibald Barrowman a Albert Roberts a všichni budou v sobotu vyznamenáni.\\n',\n",
       "  ('en', matrix([[ 49.72792094,  44.54121178,  59.38677819,  54.51815294,\n",
       "             81.79947798,  47.80359675,  57.5360361 ,  53.68021063,\n",
       "             55.4036488 ,  49.38667948,  52.26915411,  40.34007619,\n",
       "             63.93485533,  48.58933924,  51.43838613,  67.05098368,\n",
       "             67.93998882,  48.83795025,  44.13732377,   7.98035075,\n",
       "              3.80796835]])),\n",
       "  'cs'),\n",
       " ('cs\\tRuský faktor je zásadní.\\n',\n",
       "  ('sk', matrix([[  6.9152209 ,   7.35443744,   4.11418255,   4.22199853,\n",
       "              4.82917007,   4.2112115 ,   4.94730223,   4.93922119,\n",
       "              3.83577244,   5.11868968,   6.67649104,   3.76222811,\n",
       "              6.76970561,   7.40541038,   8.22363696,  17.42232842,\n",
       "             15.91636653,   7.59064443,   7.66952392,   0.28919916,\n",
       "              0.12397917]])),\n",
       "  'cs'),\n",
       " ('da\\tEn nulsats er et specifikt tal.\\n',\n",
       "  ('sv', matrix([[ 18.8921307 ,  17.48081295,  11.1854282 ,  14.53210719,\n",
       "             13.82604753,  14.63614627,  13.2893834 ,  10.63653514,\n",
       "             11.32845107,  13.17621658,  10.62663501,   7.94225   ,\n",
       "             12.8298859 ,  11.30159877,   7.26531184,   8.81805221,\n",
       "              8.82051411,   7.9638018 ,   7.91736165,   0.91573219,\n",
       "              0.31027647]])),\n",
       "  'da'),\n",
       " ('da\\tVi har Den Internationale Kontaktgruppe.\\n',\n",
       "  ('sv', matrix([[ 34.53595184,  32.35302125,  22.9477605 ,  21.17861404,\n",
       "             22.59590654,  22.36647447,  21.03083561,  18.56667447,\n",
       "             23.83722605,  18.20710099,  15.42260257,  14.41250485,\n",
       "             14.86556704,  16.84357352,  15.5134546 ,  12.95370048,\n",
       "             13.40487593,  15.38379717,  14.13775571,   1.13517081,\n",
       "              1.04597503]])),\n",
       "  'da'),\n",
       " ('es\\tEsto es claramente positivo.\\n',\n",
       "  ('pt', matrix([[ 12.36152066,  10.7572948 ,  10.79022533,   9.5056591 ,\n",
       "             17.47751669,  19.86888938,  25.33030009,  25.85593409,\n",
       "             22.19534956,  17.0263129 ,  10.37357145,  10.86468307,\n",
       "             12.03863676,  10.1456619 ,   9.66716098,  11.77502483,\n",
       "             10.69167323,  13.232069  ,   6.26538695,   1.48235313,\n",
       "              0.42795166]])),\n",
       "  'es'),\n",
       " ('es\\tSerá respetada y protegida\".\\n',\n",
       "  ('pt', matrix([[ 10.95175537,  10.08856805,   8.31734369,   8.84946219,\n",
       "             13.3273402 ,  10.58573744,  22.35390318,  22.71634556,\n",
       "             14.86772917,  13.38766027,  16.46254028,   6.44694762,\n",
       "             10.27845171,  10.3844945 ,   9.66093839,  11.24374301,\n",
       "             12.8237479 ,  12.85046011,   6.3134364 ,   1.24311007,   0.460371  ]])),\n",
       "  'es'),\n",
       " ('fr\\tM. Seppänen en a parlé hier.\\n',\n",
       "  ('de', matrix([[ 11.74334723,   9.25162192,  13.33616592,  12.89130752,\n",
       "              9.42051723,  12.92073952,  10.97377082,   9.2767862 ,\n",
       "              9.1529992 ,   6.34939151,  10.0116085 ,  12.29917467,\n",
       "              6.78645467,   6.7498916 ,   6.08310738,   7.90194022,\n",
       "              8.52069926,   6.7892318 ,   8.80697211,   1.06169465,\n",
       "              0.42694248]])),\n",
       "  'fr'),\n",
       " ('fr\\tNaufrage du cargo New Flame (vote)\\n',\n",
       "  ('en', matrix([[  9.72371768,  12.04258905,  14.67357235,   9.86708183,\n",
       "             15.8609459 ,  15.59364895,  12.99012362,  13.0343605 ,\n",
       "             13.3203598 ,  13.12584808,   9.33010332,   6.96160747,\n",
       "             11.49532277,   9.66044016,   9.20260551,  10.52193536,\n",
       "             10.12102618,  10.36214719,   6.42480647,   1.45052646,\n",
       "              0.79295928]])),\n",
       "  'fr'),\n",
       " ('hu\\tAggodalomra ad okot.\\n',\n",
       "  ('sl', matrix([[  8.50718835,   6.69547285,   1.7487494 ,   3.45774177,\n",
       "              4.68294939,   3.05172764,   5.99700029,   5.12235752,\n",
       "              8.52894775,   4.57370862,   5.9377171 ,   3.49142423,\n",
       "              8.05613605,   7.56986513,   7.14458965,   7.58276885,\n",
       "              6.21491678,  11.2042018 ,  10.96735849,   0.41112571,\n",
       "              0.22671433]])),\n",
       "  'hu'),\n",
       " ('it\\tLa domanda è la seguente.\\n',\n",
       "  ('es', matrix([[  8.69036175,   6.75327782,   6.12080947,   5.59546777,\n",
       "              9.13524603,  13.954195  ,  17.76142828,  15.15474034,\n",
       "             16.03369612,  10.57351242,  10.80178409,   6.59323138,\n",
       "              6.71391464,   8.12853232,   6.11641981,   6.66526095,\n",
       "              6.84007354,   9.83105872,   4.73034076,   1.16008906,\n",
       "              0.61963661]])),\n",
       "  'it'),\n",
       " ('it\\tLe fantasie non servono!\\n',\n",
       "  ('fr', matrix([[  8.81069332,   9.08428248,  11.99425022,   9.69597611,\n",
       "             10.44901075,  16.6642783 ,  11.84143393,  11.85763571,\n",
       "             15.77721693,  10.13730604,   8.47234855,  10.30977139,\n",
       "              8.79426186,   7.33646494,   6.96923525,   5.68664296,\n",
       "              5.17915196,   5.26897881,   5.31084743,   0.93273049,\n",
       "              0.29426926]])),\n",
       "  'it'),\n",
       " ('lv\\tEs runāju par Banco Português de Negócios un Banco Privado Português.\\n',\n",
       "  ('pt', matrix([[ 17.59423993,  17.2411237 ,  17.66755105,  17.80450191,\n",
       "             26.11429466,  29.54969001,  40.25179309,  47.66204843,\n",
       "             31.51461663,  27.35858342,  20.46522851,  10.64125457,\n",
       "             28.12590234,  33.24232896,  24.38335261,  21.18527118,\n",
       "             19.56668921,  24.7324682 ,  16.56862692,   2.49182434,   1.3284823 ]])),\n",
       "  'lv'),\n",
       " ('pl\\tRegiony te to belgijski region Limburg, holenderski region Limburg i region Aachen.\\n',\n",
       "  ('en', matrix([[ 36.05491739,  40.03068022,  39.97860997,  44.82611123,\n",
       "             49.75986646,  33.42078689,  35.28593253,  34.09724633,\n",
       "             44.49868643,  35.57819596,  35.4494887 ,  21.70120402,\n",
       "             32.54127378,  19.80251081,  31.64421223,  24.11543825,\n",
       "             24.53178995,  32.84002818,  23.18865368,   2.93886318,\n",
       "              2.58295828]])),\n",
       "  'pl'),\n",
       " ('pt\\tEstá encerrado o debate.\\n',\n",
       "  ('es', matrix([[  8.45395115,   7.80931578,   7.13956811,   7.76654452,\n",
       "             10.80403664,  11.62631688,  20.40499614,  18.17116527,\n",
       "              9.28522003,  10.04927156,   7.08231757,   3.47952526,\n",
       "              5.20884232,   7.35607578,   8.31429053,   8.07443366,\n",
       "              8.53527138,   7.46064755,   4.56719753,   0.93160012,\n",
       "              0.35824905]])),\n",
       "  'pt'),\n",
       " ('ro\\tAvem nevoie de un program...\\n',\n",
       "  ('fr', matrix([[ 10.90412549,  10.55955836,  10.41764795,  11.86099463,\n",
       "             11.92363647,  16.80306713,  13.02830905,  14.74810593,\n",
       "             15.00472384,  15.19049742,   8.03706952,   4.40684819,\n",
       "              7.83713095,  12.30962837,   8.85051519,  10.67241879,\n",
       "             10.72250002,  12.68704317,   7.15552504,   0.5017709 ,   0.4282724 ]])),\n",
       "  'ro'),\n",
       " ('sk\\tJe to také jednoduché.\\n',\n",
       "  ('cs', matrix([[  2.60542435,   4.27600931,   3.95962963,   3.2874324 ,\n",
       "              6.78616912,   5.10402571,   4.74711231,   3.24264692,\n",
       "              4.94663527,   3.5796646 ,   3.9437015 ,   3.05792963,\n",
       "              4.75810825,   4.18038691,  10.39353162,  14.27952027,\n",
       "             16.62510061,  11.70063638,   4.3802434 ,   0.24566866,\n",
       "              0.12531653]])),\n",
       "  'sk'),\n",
       " ('sv\\tEU bygger på demokratiska regler.\\n',\n",
       "  ('da', matrix([[ 25.15075422,  26.4293737 ,  14.77121474,  12.07760472,\n",
       "             12.15813907,  10.97382318,  10.34749786,  11.75536088,\n",
       "             11.20018306,   9.94978579,   9.4914883 ,   8.27986632,\n",
       "             13.43759877,  11.45668677,  10.63896556,  11.91908978,\n",
       "             11.24809065,  14.48821608,  11.22255879,   0.72347828,\n",
       "              0.60472703]])),\n",
       "  'sv')]"
      ]
     },
     "execution_count": 6,
     "metadata": {},
     "output_type": "execute_result"
    }
   ],
   "source": [
    "wrong"
   ]
  },
  {
   "cell_type": "code",
   "execution_count": 7,
   "metadata": {},
   "outputs": [
    {
     "data": {
      "text/plain": [
       "('sl',\n",
       " matrix([[ 2.47808185,  1.83907101,  1.23182241,  0.73041704,  2.78289419,\n",
       "           2.84485251,  0.84658683,  3.50204499,  1.50820706,  2.3809649 ,\n",
       "           1.42913665,  0.6408911 ,  0.42223341,  1.72162964,  0.94999773,\n",
       "           1.49515652,  2.19258887,  3.55769923,  1.40086265,  0.09029498,\n",
       "           0.08152254]]))"
      ]
     },
     "execution_count": 7,
     "metadata": {},
     "output_type": "execute_result"
    }
   ],
   "source": [
    "scoresV2(\"Avem\")"
   ]
  },
  {
   "cell_type": "code",
   "execution_count": 8,
   "metadata": {},
   "outputs": [
    {
     "data": {
      "text/plain": [
       "array([[  4.47154472e-03,   3.37154417e-04,   4.90921318e-02, ...,\n",
       "          0.00000000e+00,   0.00000000e+00,   0.00000000e+00],\n",
       "       [  3.04878049e-03,   0.00000000e+00,   4.16946873e-02, ...,\n",
       "          0.00000000e+00,   0.00000000e+00,   0.00000000e+00],\n",
       "       [  4.33604336e-03,   3.37154417e-04,   1.00000000e+00, ...,\n",
       "          0.00000000e+00,   0.00000000e+00,   0.00000000e+00],\n",
       "       ..., \n",
       "       [  1.00000000e+00,   0.00000000e+00,   1.26429052e-01, ...,\n",
       "          0.00000000e+00,   0.00000000e+00,   0.00000000e+00],\n",
       "       [  3.72628726e-03,   0.00000000e+00,   1.27774042e-02, ...,\n",
       "          0.00000000e+00,   0.00000000e+00,   0.00000000e+00],\n",
       "       [  1.08401084e-03,   0.00000000e+00,   6.72494956e-04, ...,\n",
       "          0.00000000e+00,   0.00000000e+00,   0.00000000e+00]])"
      ]
     },
     "execution_count": 8,
     "metadata": {},
     "output_type": "execute_result"
    }
   ],
   "source": [
    "a"
   ]
  },
  {
   "cell_type": "code",
   "execution_count": null,
   "metadata": {
    "collapsed": true
   },
   "outputs": [],
   "source": []
  }
 ],
 "metadata": {
  "kernelspec": {
   "display_name": "Coconut (Python 3)",
   "language": "coconut",
   "name": "coconut3"
  },
  "language_info": {
   "codemirror_mode": {
    "name": "python",
    "version": 3.6
   },
   "file_extension": ".coco",
   "mimetype": "text/x-python3",
   "name": "coconut",
   "pygments_lexer": "coconut"
  }
 },
 "nbformat": 4,
 "nbformat_minor": 2
}
