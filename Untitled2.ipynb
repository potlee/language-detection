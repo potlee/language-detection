{
 "cells": [
  {
   "cell_type": "code",
   "execution_count": 1,
   "metadata": {},
   "outputs": [
    {
     "data": {
      "text/plain": [
       "21"
      ]
     },
     "execution_count": 1,
     "metadata": {},
     "output_type": "execute_result"
    }
   ],
   "source": [
    "from sklearn.feature_extraction.text import CountVectorizer, TfidfTransformer\n",
    "import numpy as np\n",
    "import pandas as pd\n",
    "from tests import en_test_inputs, fr_test_ins, it_test_ins, lv_test_ins\n",
    "import re\n",
    "%matplotlib inline\n",
    "\n",
    "languages = [\n",
    "    'sv', 'da', 'de', 'nl', 'en', 'fr', 'es', 'pt', 'it', 'ro', 'et',\n",
    "    'fi','lt', 'lv', 'pl', 'sk', 'cs', 'sl', 'hu', 'bg',  'el'\n",
    "]\n",
    "\n",
    "files = [\n",
    "    \"train/europarl-v7.{lang}-en.{lang}\".format(lang=x)\n",
    "    for x in languages\n",
    "]\n",
    "\n",
    "corpus_raw = [\n",
    "    open(x).read(1500000) for x in files\n",
    "]\n",
    "\n",
    "corpus = [\n",
    "    re.sub(r'[?”_\"%()!--+,:;./\\]\\[\\xad\\n0-9\\=<>]', '', x) for x in corpus_raw\n",
    "]\n",
    "\n",
    "zeros = np.zeros(len(languages))\n",
    "\n",
    "len(corpus)"
   ]
  },
  {
   "cell_type": "code",
   "execution_count": 8,
   "metadata": {},
   "outputs": [
    {
     "data": {
      "text/plain": [
       "<21x272923 sparse matrix of type '<class 'numpy.float64'>'\n",
       "\twith 576205 stored elements in Compressed Sparse Row format>"
      ]
     },
     "execution_count": 8,
     "metadata": {},
     "output_type": "execute_result"
    }
   ],
   "source": [
    "count_vectorizer = CountVectorizer(ngram_range=(4, 4), analyzer='char_wb')\n",
    "analyze = count_vectorizer.build_analyzer()\n",
    "counts = count_vectorizer.fit_transform(corpus)\n",
    "counts.data = np.cbrt(counts.data)\n",
    "tfidf_transformer = TfidfTransformer(smooth_idf=False, sublinear_tf=False, use_idf=True)\n",
    "transformed_weights = tfidf_transformer.fit_transform(counts)\n",
    "\n",
    "three_gram_to_index = dict(zip(count_vectorizer.get_feature_names(), range(len(count_vectorizer.get_feature_names()))))\n",
    "\n",
    "transformed_weights"
   ]
  },
  {
   "cell_type": "code",
   "execution_count": 3,
   "metadata": {
    "collapsed": true
   },
   "outputs": [],
   "source": [
    "def score(text, lang):\n",
    "    weight_indexes = [three_gram_to_index.get(three_gram, -1) for three_gram in analyze(text)]\n",
    "    weight_indexes = list(filter(lambda x: x != -1, weight_indexes))\n",
    "    return np.sum(transformed_weights[lang,weight_indexes])\n",
    "\n",
    "adjustment = np.asarray([\n",
    "    score(corpus_raw[i], i)/len(analyze(corpus_raw[i]))\n",
    "    for i,lang in enumerate(languages)\n",
    "])\n"
   ]
  },
  {
   "cell_type": "code",
   "execution_count": 4,
   "metadata": {
    "collapsed": true
   },
   "outputs": [],
   "source": [
    "def scoresV2(text):\n",
    "    weight_indexes_all = [three_gram_to_index.get(three_gram, -1) for three_gram in analyze(text)]\n",
    "    weight_indexes_filtered = list(filter(lambda x: x != -1, weight_indexes_all))\n",
    "    out = np.sum(transformed_weights[:, weight_indexes_filtered], axis=1).T/adjustment\n",
    "    lang = languages[np.argmax(out)]\n",
    "    return lang, out"
   ]
  },
  {
   "cell_type": "code",
   "execution_count": 9,
   "metadata": {},
   "outputs": [
    {
     "name": "stdout",
     "output_type": "stream",
     "text": [
      "right: 3000, wrong: 1, er: 0.03332222592469177%\n",
      "right: 6000, wrong: 1, er: 0.016663889351774704%\n",
      "right: 9000, wrong: 1, er: 0.011109876680368847%\n",
      "right: 12000, wrong: 1, er: 0.008332638946754437%\n",
      "right: 14999, wrong: 2, er: 0.013332444503699753%\n",
      "right: 17996, wrong: 5, er: 0.027776234653630355%\n",
      "right: 20994, wrong: 7, er: 0.033331746107328225%\n",
      "Final er: 0.033331746107328225%\n"
     ]
    }
   ],
   "source": [
    "right = 1\n",
    "wrong = []\n",
    "def run_tests():\n",
    "    global right, wrong\n",
    "    tests = open('europarl.test')\n",
    "    for x in range(100):\n",
    "        try:\n",
    "            for y in range(3000):\n",
    "                line = tests.readline()\n",
    "                [lang, text] = line.split('\\t')\n",
    "                if scoresV2(text)[0] == lang:\n",
    "                    right = right + 1\n",
    "                else:\n",
    "                    wrong.append((line, scoresV2(text), lang))\n",
    "        except:\n",
    "            print(\"Final er: {er}%\".format(er=100*len(wrong)/(right+len(wrong))))\n",
    "            break\n",
    "        print(\n",
    "            \"right: {right}, wrong: {wrong}, er: {er}%\".format(\n",
    "                right=right, wrong=len(wrong),er = 100*len(wrong)/(right+len(wrong))\n",
    "            )\n",
    "        )\n",
    "run_tests()"
   ]
  },
  {
   "cell_type": "code",
   "execution_count": 10,
   "metadata": {},
   "outputs": [
    {
     "data": {
      "text/plain": [
       "[('cs\\tDnes myslím na nás, tedy na vás a na sebe.\\n',\n",
       "  ('sk', matrix([[  0.683384  ,   1.24785897,   1.35840468,   2.51819827,\n",
       "              3.55319866,   4.1406514 ,   2.89778428,   6.72194545,\n",
       "              2.12262584,   1.91063768,   1.62275797,   0.46892035,\n",
       "              1.70793502,   0.89267997,   6.28315326,  22.32270818,\n",
       "             21.17796105,   9.28481207,   3.16875322,   0.24476406,   0.1327154 ]])),\n",
       "  'cs'),\n",
       " ('lv\\tEs runāju par Banco Português de Negócios un Banco Privado Português.\\n',\n",
       "  ('pt', matrix([[  7.41159175,   7.95841401,   7.42933033,   7.78514701,\n",
       "             11.40700656,  14.12762714,  22.69856082,  24.0382442 ,\n",
       "             15.10199618,  13.36089251,   8.27083764,   4.91088823,\n",
       "             10.97285119,  18.26736297,   6.04278578,   7.80980646,\n",
       "              7.11745664,   9.41453624,   5.70509533,   1.15648353,\n",
       "              0.91633373]])),\n",
       "  'lv'),\n",
       " ('pl\\tRegiony te to belgijski region Limburg, holenderski region Limburg i region Aachen.\\n',\n",
       "  ('en', matrix([[ 17.96611484,  20.08882552,  21.19127216,  17.28355943,\n",
       "             29.11274061,  16.46736049,  16.49264736,  15.98831659,\n",
       "             21.03215345,  15.61227175,  12.43040588,   8.52468793,\n",
       "             14.16334596,   6.71279789,  16.35282665,  12.81614099,\n",
       "             13.58286962,  16.10476628,   8.60702685,   1.31926623,\n",
       "              0.92648695]])),\n",
       "  'pl'),\n",
       " ('pt\\tEstá encerrado o debate.\\n',\n",
       "  ('es', matrix([[  2.28880424,   2.9222262 ,   2.40084975,   2.73953101,\n",
       "              5.96620877,   5.17597355,  12.52657509,  12.38946904,\n",
       "              4.31994038,   4.8832841 ,   2.27579605,   1.0211012 ,\n",
       "              2.89104801,   3.21662444,   3.13835089,   3.83104186,\n",
       "              4.08618971,   3.19285529,   1.09087676,   0.92226541,\n",
       "              0.05484501]])),\n",
       "  'pt'),\n",
       " ('ro\\tAvem nevoie de un program...\\n',\n",
       "  ('fr', matrix([[  4.50449436,   5.17989341,   3.50495004,   5.11280744,\n",
       "              5.52839706,  11.98685323,   7.94679432,   7.40262874,\n",
       "              8.24255504,  11.68670014,   3.66049646,   1.2505629 ,\n",
       "              3.85035698,   4.93253873,   2.74569827,   4.24141692,\n",
       "              4.55900096,   4.75523631,   3.08863823,   0.25723368,\n",
       "              0.27215437]])),\n",
       "  'ro'),\n",
       " ('sk\\tJe to také jednoduché.\\n',\n",
       "  ('cs', matrix([[  0.62234554,   1.64600681,   1.64391581,   1.21768539,\n",
       "              4.66061377,   2.44111775,   0.94279718,   0.33353096,\n",
       "              0.99796168,   0.77466607,   0.4970721 ,   0.3950821 ,\n",
       "              1.28903702,   1.21794393,   6.65844754,  13.64424919,\n",
       "             14.48035244,   6.15720476,   0.88691186,   0.        ,\n",
       "              0.05689128]])),\n",
       "  'sk'),\n",
       " ('sv\\tEU bygger på demokratiska regler.\\n',\n",
       "  ('da', matrix([[ 17.32821975,  17.6437008 ,   7.40131943,   3.96279545,\n",
       "              5.12236259,   4.08273738,   3.70352848,   3.4772875 ,\n",
       "              4.31238223,   4.31802963,   5.38811956,   5.07199455,\n",
       "              6.31840139,   6.10543275,   4.60360897,   6.25716043,\n",
       "              6.23349299,   9.17002208,   4.16484271,   0.33771507,\n",
       "              0.15769719]])),\n",
       "  'sv')]"
      ]
     },
     "execution_count": 10,
     "metadata": {},
     "output_type": "execute_result"
    }
   ],
   "source": [
    "wrong"
   ]
  },
  {
   "cell_type": "code",
   "execution_count": 11,
   "metadata": {},
   "outputs": [
    {
     "data": {
      "text/plain": [
       "('ro',\n",
       " matrix([[ 0.63491786,  0.49594623,  0.07402902,  0.09650742,  0.35586495,\n",
       "           1.06591   ,  0.38154455,  1.24450211,  0.87784369,  1.93439186,\n",
       "           0.3252581 ,  0.06481595,  0.11347094,  0.09579412,  0.09186615,\n",
       "           0.23186923,  0.61289126,  1.06524151,  0.24238341,  0.04389155,\n",
       "           0.0362359 ]]))"
      ]
     },
     "execution_count": 11,
     "metadata": {},
     "output_type": "execute_result"
    }
   ],
   "source": [
    "scoresV2(\"Avem\")"
   ]
  },
  {
   "cell_type": "code",
   "execution_count": null,
   "metadata": {
    "collapsed": true
   },
   "outputs": [],
   "source": []
  }
 ],
 "metadata": {
  "kernelspec": {
   "display_name": "Coconut (Python 3)",
   "language": "coconut",
   "name": "coconut3"
  },
  "language_info": {
   "codemirror_mode": {
    "name": "python",
    "version": 3.6
   },
   "file_extension": ".coco",
   "mimetype": "text/x-python3",
   "name": "coconut",
   "pygments_lexer": "coconut"
  }
 },
 "nbformat": 4,
 "nbformat_minor": 2
}
