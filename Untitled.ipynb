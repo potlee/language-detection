{
 "cells": [
  {
   "cell_type": "code",
   "execution_count": 1,
   "metadata": {},
   "outputs": [
    {
     "data": {
      "text/plain": [
       "21"
      ]
     },
     "execution_count": 1,
     "metadata": {},
     "output_type": "execute_result"
    }
   ],
   "source": [
    "from sklearn.feature_extraction.text import CountVectorizer, TfidfTransformer\n",
    "import numpy as np\n",
    "import pandas as pd\n",
    "from tests import en_test_inputs, fr_test_ins, it_test_ins, lv_test_ins\n",
    "import re\n",
    "%matplotlib inline\n",
    "\n",
    "languages = [\n",
    "    'sv', 'da', 'de', 'nl', 'en', 'fr', 'es', 'pt', 'it', 'ro', 'et',\n",
    "    'fi','lt', 'lv', 'pl', 'sk', 'cs', 'sl', 'hu', 'bg',  'el'\n",
    "]\n",
    "\n",
    "files = [\n",
    "    \"train/europarl-v7.{lang}-en.{lang}\".format(lang=x)\n",
    "    for x in languages\n",
    "]\n",
    "\n",
    "corpus_raw = [\n",
    "    open(x).read(1500000) for x in files\n",
    "]\n",
    "\n",
    "corpus = [\n",
    "    re.sub(r'[?”_\"%()!--+,:;./\\]\\[\\xad\\n0-9\\=<>]', '', x) for x in corpus_raw\n",
    "]\n",
    "\n",
    "zeros = np.zeros(len(languages))\n",
    "\n",
    "len(corpus)"
   ]
  },
  {
   "cell_type": "code",
   "execution_count": null,
   "metadata": {},
   "outputs": [],
   "source": [
    "count_vectorizer = CountVectorizer(ngram_range=(4, 4), analyzer='char_wb')\n",
    "analyze = count_vectorizer.build_analyzer()\n",
    "counts = count_vectorizer.fit_transform(corpus)\n",
    "counts_n = counts/(counts.sum(axis=1)/counts.sum(axis=1).mean())\n",
    "a = np.array(counts_n)\n",
    "a = a/a.sum(axis=0)\n",
    "transformed_weights = a**0.33 #np.log(a + 0.0001) #((a + 1) ** 0.5) #  np.log(a + 1)\n",
    "\n",
    "three_gram_to_index = dict(zip(count_vectorizer.get_feature_names(), range(len(count_vectorizer.get_feature_names()))))\n",
    "\n",
    "transformed_weights"
   ]
  },
  {
   "cell_type": "code",
   "execution_count": 329,
   "metadata": {
    "collapsed": true
   },
   "outputs": [],
   "source": [
    "def scoresV2(text):\n",
    "    weight_indexes_all = [three_gram_to_index.get(three_gram, -1) for three_gram in analyze(text)]\n",
    "    weight_indexes_filtered = list(filter(lambda x: x != -1, weight_indexes_all))\n",
    "    out = np.sum(transformed_weights[:, weight_indexes_filtered], axis=1)\n",
    "    lang = languages[np.argmax(out)]\n",
    "    return lang, out"
   ]
  },
  {
   "cell_type": "code",
   "execution_count": null,
   "metadata": {},
   "outputs": [],
   "source": [
    "right = 1\n",
    "wrong = []\n",
    "def run_tests():\n",
    "    global right, wrong\n",
    "    tests = open('europarl.test')\n",
    "    for x in range(100):\n",
    "        try:\n",
    "            for y in range(3000):\n",
    "                line = tests.readline()\n",
    "                [lang, text] = line.split('\\t')\n",
    "                if scoresV2(text)[0] == lang:\n",
    "                    right = right + 1\n",
    "                else:\n",
    "                    wrong.append((line, scoresV2(text), lang))\n",
    "        except:\n",
    "            print(\"Final er: {er}%\".format(er=100*len(wrong)/(right+len(wrong))))\n",
    "            break\n",
    "        print(\n",
    "            \"right: {right}, wrong: {wrong}, er: {er}%\".format(\n",
    "                right=right, wrong=len(wrong),er = 100*len(wrong)/(right+len(wrong))\n",
    "            )\n",
    "        )\n",
    "run_tests()"
   ]
  },
  {
   "cell_type": "code",
   "execution_count": 268,
   "metadata": {},
   "outputs": [
    {
     "data": {
      "text/plain": [
       "array([ 0.12240418,  0.12473875,  0.11860804,  0.06184592,  0.12841689,\n",
       "        2.45844542,  0.        ,  0.        ,  0.        ,  0.06098547,\n",
       "        5.52284562,  7.1514297 ,  1.34130856,  1.36493535,  0.40374146,\n",
       "        0.53479568,  0.53865676,  0.60692587,  0.45991633,  0.        ,  0.        ])"
      ]
     },
     "execution_count": 268,
     "metadata": {},
     "output_type": "execute_result"
    }
   ],
   "source": [
    "a.T[5000]"
   ]
  },
  {
   "cell_type": "code",
   "execution_count": 337,
   "metadata": {},
   "outputs": [
    {
     "data": {
      "text/plain": [
       "array([[   66,    45,    64,    37,  4203,  1380,  5280,  9252,  3011,\n",
       "         6005,    42,    57,    77,    55,   917,  7936,  8058,    67,\n",
       "        14760,    55,    16]])"
      ]
     },
     "execution_count": 337,
     "metadata": {},
     "output_type": "execute_result"
    }
   ],
   "source": [
    "np.array(counts.T[0].todense())"
   ]
  },
  {
   "cell_type": "code",
   "execution_count": 392,
   "metadata": {},
   "outputs": [
    {
     "data": {
      "text/plain": [
       "matrix([[    67.1517283 ,     46.65851558,     63.09734755,     38.04168867,\n",
       "           4486.40556352,   1446.17900868,   5505.42599424,   9439.21391492,\n",
       "           3032.37023353,   6088.16473113,     40.16871742,     52.53213159,\n",
       "             74.65150897,     54.2617678 ,    879.26878032,   7839.60249878,\n",
       "           8017.59047311,     67.60167513,  14106.59514931,     55.36571143,\n",
       "             16.17098813]])"
      ]
     },
     "execution_count": 392,
     "metadata": {},
     "output_type": "execute_result"
    }
   ],
   "source": [
    "counts_n.T[0]"
   ]
  },
  {
   "cell_type": "code",
   "execution_count": 391,
   "metadata": {},
   "outputs": [
    {
     "data": {
      "text/plain": [
       "array([ 0.00109338,  0.00075971,  0.00102737,  0.0006194 ,  0.07304884,\n",
       "        0.02354707,  0.0896408 ,  0.15369178,  0.04937385,  0.09912911,\n",
       "        0.00065404,  0.00085534,  0.0012155 ,  0.0008835 ,  0.01431649,\n",
       "        0.12764648,  0.13054453,  0.00110071,  0.22968732,  0.00090148,\n",
       "        0.0002633 ])"
      ]
     },
     "execution_count": 391,
     "metadata": {},
     "output_type": "execute_result"
    }
   ],
   "source": [
    "a.T[0]"
   ]
  },
  {
   "cell_type": "code",
   "execution_count": 371,
   "metadata": {
    "scrolled": true
   },
   "outputs": [
    {
     "data": {
      "text/plain": [
       "array([ 0.02270139,  0.01582791,  0.02134528,  0.01292363,  0.92980922,\n",
       "        0.40178398,  1.05864301,  1.44161727,  0.71140496,  1.12548506,\n",
       "        0.01364132,  0.01780277,  0.02520507,  0.01838358,  0.26286124,\n",
       "        1.3030693 ,  1.31946926,  0.02285177,  1.76189006,  0.0187541 ,\n",
       "        0.00551408])"
      ]
     },
     "execution_count": 371,
     "metadata": {},
     "output_type": "execute_result"
    }
   ],
   "source": [
    "transformed_weights.T[0]"
   ]
  },
  {
   "cell_type": "code",
   "execution_count": 325,
   "metadata": {},
   "outputs": [
    {
     "data": {
      "text/plain": [
       "matrix([[  2.92459610e+03],\n",
       "        [  4.85826175e-02],\n",
       "        [  3.28796384e-01],\n",
       "        ..., \n",
       "        [  1.91742724e-01],\n",
       "        [  9.39597711e-02],\n",
       "        [  4.69798855e-02]])"
      ]
     },
     "execution_count": 325,
     "metadata": {},
     "output_type": "execute_result"
    }
   ],
   "source": [
    "counts_n.T.mean(axis=1)"
   ]
  },
  {
   "cell_type": "code",
   "execution_count": null,
   "metadata": {
    "collapsed": true
   },
   "outputs": [],
   "source": []
  }
 ],
 "metadata": {
  "kernelspec": {
   "display_name": "Coconut (Python 3)",
   "language": "coconut",
   "name": "coconut3"
  },
  "language_info": {
   "codemirror_mode": {
    "name": "python",
    "version": 3.6
   },
   "file_extension": ".coco",
   "mimetype": "text/x-python3",
   "name": "coconut",
   "pygments_lexer": "coconut"
  }
 },
 "nbformat": 4,
 "nbformat_minor": 2
}
