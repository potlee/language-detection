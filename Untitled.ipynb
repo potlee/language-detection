{
 "cells": [
  {
   "cell_type": "code",
   "execution_count": 72,
   "metadata": {},
   "outputs": [
    {
     "data": {
      "text/plain": [
       "21"
      ]
     },
     "execution_count": 72,
     "metadata": {},
     "output_type": "execute_result"
    }
   ],
   "source": [
    "from sklearn.feature_extraction.text import CountVectorizer, TfidfTransformer\n",
    "import numpy as np\n",
    "import pandas as pd\n",
    "from tests import en_test_inputs, fr_test_ins, it_test_ins, lv_test_ins\n",
    "import re\n",
    "\n",
    "languages = [\n",
    "    'sl', 'en', 'sv', 'da', 'de', 'nl', 'fr', 'es', 'pt', 'it', 'ro',\n",
    "    'et', 'lt', 'lv', 'pl', 'sk', 'cs', 'el', 'fi', 'hu', 'bg'\n",
    "]\n",
    "\n",
    "files = [\n",
    "    \"europarl-v7.{lang}-en.{lang}\".format(lang=x)\n",
    "    for x in languages\n",
    "]\n",
    "\n",
    "corpus_raw = [\n",
    "    open(x).read(20000) for x in files\n",
    "]\n",
    "\n",
    "corpus = [\n",
    "    re.sub(r'[?\"%()!--+,:;./\\]\\[\\xad\\n0-9\\=<>]', '', x) for x in corpus_raw\n",
    "]\n",
    "\n",
    "len(corpus)"
   ]
  },
  {
   "cell_type": "code",
   "execution_count": 73,
   "metadata": {},
   "outputs": [
    {
     "data": {
      "text/plain": [
       "<21x16252 sparse matrix of type '<class 'numpy.float64'>'\n",
       "\twith 43745 stored elements in Compressed Sparse Row format>"
      ]
     },
     "execution_count": 73,
     "metadata": {},
     "output_type": "execute_result"
    }
   ],
   "source": [
    "bigram_vectorizer = CountVectorizer(ngram_range=(3, 3), analyzer='char_wb')\n",
    "analyze = bigram_vectorizer.build_analyzer()\n",
    "counts = bigram_vectorizer.fit_transform(corpus)\n",
    "transformed_weights = TfidfTransformer(smooth_idf=True,use_idf=False, norm='l1').fit_transform(counts)\n",
    "weights = [\n",
    "   dict(zip(bigram_vectorizer.get_feature_names(), weight)) for weight in transformed_weights.toarray()\n",
    "]\n",
    "weights = dict(zip(languages, weights))\n",
    "transformed_weights"
   ]
  },
  {
   "cell_type": "code",
   "execution_count": 74,
   "metadata": {
    "collapsed": true
   },
   "outputs": [],
   "source": [
    "def scores(text):\n",
    "    scores_list = [score(text, lang) for lang in languages]\n",
    "    scores_dict = dict(zip(weights, scores_list))\n",
    "    rev_dict = {v: k for k, v in scores_dict.items()}\n",
    "    return rev_dict[max(scores_list)], scores_dict\n",
    "\n",
    "def score(text, lang):\n",
    "    return sum([weights[lang].get(three_gram, 0) for three_gram in analyze(text)])"
   ]
  },
  {
   "cell_type": "code",
   "execution_count": 75,
   "metadata": {},
   "outputs": [
    {
     "data": {
      "text/plain": [
       "[0.0029197170652436807,\n",
       " 0.0035188091760417345,\n",
       " 0.0024387017380211352,\n",
       " 0.0031188767188491131,\n",
       " 0.0030630144377589807,\n",
       " 0.0035428439385828733,\n",
       " 0.0029396805633141289,\n",
       " 0.0033409206147969766,\n",
       " 0.0029504896930561881,\n",
       " 0.0026065841816880556,\n",
       " 0.0034381407207649799,\n",
       " 0.0025448595405165972,\n",
       " 0.0026665798372641656,\n",
       " 0.0025572560354571341,\n",
       " 0.0027876627871760836,\n",
       " 0.0030297960361699754,\n",
       " 0.002694132907296773,\n",
       " 0.0019344651086368909,\n",
       " 0.0020117912835934094,\n",
       " 0.0023685498334847606,\n",
       " 0.0031366605569831648]"
      ]
     },
     "execution_count": 75,
     "metadata": {},
     "output_type": "execute_result"
    }
   ],
   "source": [
    "[score(corpus_raw[i], lang)/len(analyze(corpus_raw[i])) for i,lang in enumerate(languages)]"
   ]
  },
  {
   "cell_type": "code",
   "execution_count": null,
   "metadata": {
    "collapsed": true
   },
   "outputs": [],
   "source": [
    "tests = open('')"
   ]
  }
 ],
 "metadata": {
  "kernelspec": {
   "display_name": "Coconut (Python 3)",
   "language": "coconut",
   "name": "coconut3"
  },
  "language_info": {
   "codemirror_mode": {
    "name": "python",
    "version": 3.6
   },
   "file_extension": ".coco",
   "mimetype": "text/x-python3",
   "name": "coconut",
   "pygments_lexer": "coconut"
  }
 },
 "nbformat": 4,
 "nbformat_minor": 2
}
