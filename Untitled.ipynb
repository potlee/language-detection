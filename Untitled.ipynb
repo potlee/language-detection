{
 "cells": [
  {
   "cell_type": "code",
   "execution_count": 1,
   "metadata": {},
   "outputs": [
    {
     "data": {
      "text/plain": [
       "21"
      ]
     },
     "execution_count": 1,
     "metadata": {},
     "output_type": "execute_result"
    }
   ],
   "source": [
    "from sklearn.feature_extraction.text import CountVectorizer, TfidfTransformer\n",
    "import numpy as np\n",
    "import pandas as pd\n",
    "from tests import en_test_inputs, fr_test_ins, it_test_ins, lv_test_ins\n",
    "import re\n",
    "\n",
    "languages = [\n",
    "    'sl', 'en', 'sv', 'da', 'de', 'nl', 'fr', 'es', 'pt', 'it', 'ro',\n",
    "    'et', 'lt', 'lv', 'pl', 'sk', 'cs', 'el', 'fi', 'hu', 'bg'\n",
    "]\n",
    "\n",
    "files = [\n",
    "    \"train/europarl-v7.{lang}-en.{lang}\".format(lang=x)\n",
    "    for x in languages\n",
    "]\n",
    "\n",
    "corpus_raw = [\n",
    "    open(x).read(1000000) for x in files\n",
    "]\n",
    "\n",
    "corpus = [\n",
    "    re.sub(r'[?\"%()!--+,:;./\\]\\[\\xad\\n0-9\\=<>]', '', x) for x in corpus_raw\n",
    "]\n",
    "\n",
    "len(corpus)"
   ]
  },
  {
   "cell_type": "code",
   "execution_count": 2,
   "metadata": {},
   "outputs": [
    {
     "data": {
      "text/plain": [
       "<21x53435 sparse matrix of type '<class 'numpy.float64'>'\n",
       "\twith 150016 stored elements in Compressed Sparse Row format>"
      ]
     },
     "execution_count": 2,
     "metadata": {},
     "output_type": "execute_result"
    }
   ],
   "source": [
    "bigram_vectorizer = CountVectorizer(ngram_range=(3, 3), analyzer='char_wb')\n",
    "analyze = bigram_vectorizer.build_analyzer()\n",
    "counts = bigram_vectorizer.fit_transform(corpus)\n",
    "transformed_weights = TfidfTransformer(smooth_idf=True,use_idf=True, norm='l1').fit_transform(counts)\n",
    "weights = [\n",
    "   dict(zip(bigram_vectorizer.get_feature_names(), weight)) for weight in transformed_weights.toarray()\n",
    "]\n",
    "weights = dict(zip(languages, weights))\n",
    "transformed_weights"
   ]
  },
  {
   "cell_type": "code",
   "execution_count": 3,
   "metadata": {},
   "outputs": [],
   "source": [
    "\n",
    "def score(text, lang):\n",
    "    return sum([weights[lang].get(three_gram, 0) for three_gram in analyze(text)])\n",
    "\n",
    "adjustment = [score(corpus_raw[i], lang)/len(analyze(corpus_raw[i])) for i,lang in enumerate(languages)]\n",
    "\n",
    "def scores(text):\n",
    "    scores_list = [score(text, lang) for lang in languages]\n",
    "    scores_list = [score/adjustment[i] for i, score in enumerate(scores_list)]\n",
    "    scores_dict = dict(zip(weights, scores_list))\n",
    "    rev_dict = {v: k for k, v in scores_dict.items()}\n",
    "    return rev_dict[max(scores_list)], scores_dict"
   ]
  },
  {
   "cell_type": "code",
   "execution_count": 6,
   "metadata": {},
   "outputs": [
    {
     "name": "stdout",
     "output_type": "stream",
     "text": [
      "right: 999, wrong: 1\n",
      "right: 1965, wrong: 35\n",
      "right: 2956, wrong: 44\n",
      "right: 3946, wrong: 54\n",
      "right: 4946, wrong: 54\n",
      "right: 5924, wrong: 76\n",
      "right: 6856, wrong: 144\n",
      "right: 7854, wrong: 146\n",
      "right: 8839, wrong: 161\n",
      "right: 9828, wrong: 172\n",
      "right: 10826, wrong: 174\n",
      "right: 11823, wrong: 177\n",
      "right: 12820, wrong: 180\n",
      "right: 13812, wrong: 188\n",
      "right: 14793, wrong: 207\n",
      "right: 15785, wrong: 215\n",
      "right: 16781, wrong: 219\n",
      "right: 17777, wrong: 223\n",
      "right: 18769, wrong: 231\n",
      "right: 19765, wrong: 235\n"
     ]
    },
    {
     "ename": "ValueError",
     "evalue": "not enough values to unpack (expected 2, got 1)",
     "output_type": "error",
     "traceback": [
      "\u001b[0;31m---------------------------------------------------------------------------\u001b[0m",
      "\u001b[0;31mValueError\u001b[0m                                Traceback (most recent call last)",
      "\u001b[0;32m<ipython-input-6-7bb606e73450>\u001b[0m in \u001b[0;36m<module>\u001b[0;34m()\u001b[0m\n\u001b[1;32m     14\u001b[0m     \u001b[0;32mfor\u001b[0m \u001b[0my\u001b[0m \u001b[0;32min\u001b[0m \u001b[0mrange\u001b[0m\u001b[0;34m(\u001b[0m\u001b[0;36m1000\u001b[0m\u001b[0;34m)\u001b[0m\u001b[0;34m:\u001b[0m  \u001b[0;31m# line 8:     for y in range(1000):\u001b[0m\u001b[0;34m\u001b[0m\u001b[0m\n\u001b[1;32m     15\u001b[0m         \u001b[0mline\u001b[0m \u001b[0;34m=\u001b[0m \u001b[0mtests\u001b[0m\u001b[0;34m.\u001b[0m\u001b[0mreadline\u001b[0m\u001b[0;34m(\u001b[0m\u001b[0;34m)\u001b[0m  \u001b[0;31m# line 9:         line = tests.readline()\u001b[0m\u001b[0;34m\u001b[0m\u001b[0m\n\u001b[0;32m---> 16\u001b[0;31m         \u001b[0;34m[\u001b[0m\u001b[0mlang\u001b[0m\u001b[0;34m,\u001b[0m \u001b[0mtext\u001b[0m\u001b[0;34m]\u001b[0m \u001b[0;34m=\u001b[0m \u001b[0mline\u001b[0m\u001b[0;34m.\u001b[0m\u001b[0msplit\u001b[0m\u001b[0;34m(\u001b[0m\u001b[0;34m'\\t'\u001b[0m\u001b[0;34m)\u001b[0m  \u001b[0;31m# line 10:         [lang, text] = line.split('\\t')\u001b[0m\u001b[0;34m\u001b[0m\u001b[0m\n\u001b[0m\u001b[1;32m     17\u001b[0m         \u001b[0;32mif\u001b[0m \u001b[0mscores\u001b[0m\u001b[0;34m(\u001b[0m\u001b[0mtext\u001b[0m\u001b[0;34m)\u001b[0m\u001b[0;34m[\u001b[0m\u001b[0;36m0\u001b[0m\u001b[0;34m]\u001b[0m \u001b[0;34m==\u001b[0m \u001b[0mlang\u001b[0m\u001b[0;34m:\u001b[0m  \u001b[0;31m# line 11:         if scores(text)[0] == lang:\u001b[0m\u001b[0;34m\u001b[0m\u001b[0m\n\u001b[1;32m     18\u001b[0m             \u001b[0mright\u001b[0m \u001b[0;34m=\u001b[0m \u001b[0mright\u001b[0m \u001b[0;34m+\u001b[0m \u001b[0;36m1\u001b[0m  \u001b[0;31m# line 12:             right = right + 1\u001b[0m\u001b[0;34m\u001b[0m\u001b[0m\n",
      "\u001b[0;31mValueError\u001b[0m: not enough values to unpack (expected 2, got 1)"
     ]
    }
   ],
   "source": [
    "tests = open('europarl.test')\n",
    "line = tests.readline()\n",
    "right = 0\n",
    "wrong = []\n",
    "line.split('\\t')\n",
    "\n",
    "for x in range(100):\n",
    "    for y in range(1000):\n",
    "        line = tests.readline()\n",
    "        [lang, text] = line.split('\\t')\n",
    "        if scores(text)[0] == lang:\n",
    "            right = right + 1\n",
    "        else:\n",
    "            wrong.append(line)\n",
    "    print(\"right: {right}, wrong: {wrong}\".format(right=right, wrong=len(wrong)))\n"
   ]
  },
  {
   "cell_type": "code",
   "execution_count": null,
   "metadata": {},
   "outputs": [],
   "source": [
    "scores('Obie nogi położyli na hamulcu')"
   ]
  },
  {
   "cell_type": "code",
   "execution_count": 8,
   "metadata": {},
   "outputs": [
    {
     "data": {
      "text/plain": [
       "0.012238095238095239"
      ]
     },
     "execution_count": 8,
     "metadata": {},
     "output_type": "execute_result"
    }
   ],
   "source": [
    "len(wrong)/21000"
   ]
  },
  {
   "cell_type": "code",
   "execution_count": 9,
   "metadata": {},
   "outputs": [
    {
     "data": {
      "text/plain": [
       "['cs\\t\"Diktátorství a manipulace\"?\\n',\n",
       " 'cs\\t(Parlament žádost schválil)\\n',\n",
       " 'cs\\tBude to samozřejmě náročná úloha.\\n',\n",
       " 'cs\\tBudu je jmenovat: ať se jedná o Německo či Francii, my vás podpoříme.\\n',\n",
       " 'cs\\tBylo by pro nás lepší, kdybychom se řídili podle toho, co navrhuje ICCAT, protože ta po léta snižovala kvóty na odlovy ryb.\\n',\n",
       " 'cs\\tChci říci, že abychom dosáhli cílů strategie EU 2020, potřebujeme znalosti a inovace.\\n',\n",
       " 'cs\\tCo tedy tato síť obsahuje?\\n',\n",
       " 'cs\\tDnes myslím na nás, tedy na vás a na sebe.\\n',\n",
       " 'cs\\tDíky tomu tato zpráva reprezentuje široké spektrum názorů a nabízí řadu dobrých nápadů, ale rovněž nám umožňuje koordinovat naši průběžnou práci ve stálých výborech, pokud jde o formulování různých odvětvových politik.\\n',\n",
       " 'cs\\tDěkuji vám, pane Battene.\\n',\n",
       " 'cs\\tDěkuji za pozornost.\\n',\n",
       " 'cs\\tJe mi líto, ale problém je v tom, že nás neuvědomil pan Crowley, a to je podle všeho nezbytné.\\n',\n",
       " 'cs\\tJe nutno zeptat se na názor občanů: Pactio Olisipio censenda est!\\n',\n",
       " 'cs\\tJe to práce pro politiky členských států.\\n',\n",
       " 'cs\\tJedna skupina je na jasných pravidlech zvlášť závislá.\\n',\n",
       " 'cs\\tJmenovali se William Meyer, Bernard Starie, Reginald Pike, Thomas Shaw, James McLeish, Archibald Barrowman a Albert Roberts a všichni budou v sobotu vyznamenáni.\\n',\n",
       " 'cs\\tKaždý z deseti bodů má naši plnou podporu, to samé platí také pro zákon o malých podnicích.\\n',\n",
       " 'cs\\tMusí říci, že naše solidarita s Izraelem neznamená, že ho budeme i nadále podporovat v naprosto sebevražedné politice.\\n',\n",
       " 'cs\\tMěl plné právo promluvit.\\n',\n",
       " 'cs\\tMůže nastat epidemie chřipky?\\n',\n",
       " 'cs\\tNavrhované řešení je rovněž postaveno na principu demografické velikosti jednotlivých členských států. i to je princip spravedlivý a správný.\\n',\n",
       " 'cs\\tNesmíme toto hledisko opomíjet.\\n',\n",
       " 'cs\\tNikdo státům nezakazuje poskytovat dobré služby, a to dokonce ani v rámci liberalizace.\\n',\n",
       " 'cs\\tPan Peterle to všechno řekl - chceme, aby naši občané žili dlouho a zdravě.\\n',\n",
       " 'cs\\tPan Rehn nazval eurozónu něčím jako hodnotou samo v sobě a potom hovořil o krizi v Řecku.\\n',\n",
       " 'cs\\tPlán práce: viz zápis\\n',\n",
       " 'cs\\tPodle vlády v Manile spolupracuje organizace Abu Sayyaf se sítí Al-Kajdá.\\n',\n",
       " 'cs\\tPočkejte okamžik, o kom to zde hovoříme?\\n',\n",
       " 'cs\\tRozhodnutí o určitých dokumentech: viz zápis\\n',\n",
       " 'cs\\tRuský faktor je zásadní.\\n',\n",
       " 'cs\\tTak tento odstavec chápu já.\\n',\n",
       " 'cs\\tTento pozměňovací návrh zpochybňuje pravidla priority v oblasti rodinných dávek.\\n',\n",
       " 'cs\\tTo je podle mého názoru škoda.\\n',\n",
       " 'cs\\tVěc: Vyhlídky projektu Galileo\\n',\n",
       " 'cs\\tZároveň je nanejvýš důležité, aby Barma zahájila dialog mezi politickými a etnickými skupinami.\\n',\n",
       " 'da\\t(Protokollen godkendtes)\\n',\n",
       " 'da\\tBåde de nationale parlamenter og Europa-Parlamentet skal inddrages i det.\\n',\n",
       " 'da\\tDagsorden for næste møde: se protokollen\\n',\n",
       " 'da\\tLad mig give et par eksempler.\\n',\n",
       " 'da\\tMange tak, fru kommissær.\\n',\n",
       " 'da\\tSiden 1990 er verdenshandelen vokset eksplosivt.\\n',\n",
       " 'da\\tTheir will is the law, not only at home, but as to the concerns of every nation. ... They have swept away the very constitutions under which the Legislatures acted \" (De må være mere end blinde, dem, som ikke kan se, med hvilken usvigelig systematik, i dette tilfælde og i alle tilfælde, de forfølger deres plan for total ødelæggelse af enhver uafhængig magt. ...\\n',\n",
       " 'da\\tVi har Den Internationale Kontaktgruppe.\\n',\n",
       " 'da\\tVi må tage os i agt.\\n',\n",
       " 'de\\tBetrifft: Waffenhandel in Burundi\\n',\n",
       " 'de\\tDanke, Herr Macartney!\\n',\n",
       " 'de\\tDas ist zum Teil Europa zu verdanken.\\n',\n",
       " 'de\\tDas wäre völlig inakzeptabel.\\n',\n",
       " 'de\\tDenn dann sollte es nicht mehr als offizielles Dokument verteilt werden.\\n',\n",
       " 'de\\tEs folgt eine kurze Anmerkung von Herrn James Elles.\\n',\n",
       " 'de\\tIhre Anwesenheit ist festgestellt worden.\\n',\n",
       " 'de\\tMitglied der Kommission.\\n',\n",
       " 'de\\tVielen Dank, Herr Bowis.\\n',\n",
       " 'de\\t– Herr Präsident!\\n',\n",
       " 'en\\tA balanced approach is needed here.\\n',\n",
       " 'en\\tAmendment No 6 now makes further changes.\\n',\n",
       " \"en\\tBetter focused state aid means better economic results and governance and ultimately, better and more secure jobs and better use of tax-payers' money.\\n\",\n",
       " 'en\\tEmission controls are to a large extent covered by existing Community legislation.\\n',\n",
       " \"en\\tExcuse me. Mrs Ahern, Mrs Scallon's question ended several minutes ago.\\n\",\n",
       " 'en\\tHence my plea, Mr President.\\n',\n",
       " 'en\\tHence, I am clearly a party man.\\n',\n",
       " 'en\\tI hope we will meet again soon.\\n',\n",
       " 'en\\tI propose we vote from 56 to 28.\\n',\n",
       " 'en\\tI shall now pass on to other points, Mr President, Commissioner.\\n',\n",
       " 'en\\tI will comment on six groups of amendments.\\n',\n",
       " 'en\\tInformed consumers are an essential component of economic competition among banks.\\n',\n",
       " 'en\\tIt was not, however.\\n',\n",
       " 'en\\tJoint action is required.\\n',\n",
       " 'en\\tMr President, I would like to put a couple of questions to Commissioner Wulf-Mathies.\\n',\n",
       " 'en\\tQualifications framework for lifelong learning (debate)\\n',\n",
       " 'en\\tRegarding Amendment No 48\\n',\n",
       " 'en\\tSecondly, confidence can be restored by effective intervention in cross-border problems.\\n',\n",
       " 'en\\tUnilateral mutual contempt leads to a dehumanisation of action.\\n',\n",
       " 'en\\tVerification of credentials: see Minutes\\n',\n",
       " 'en\\tWe are trying here to coordinate disaster aid as sensibly as possible.\\n',\n",
       " 'en\\tWe need to alter our transport policy.\\n',\n",
       " 'es\\t(DE) Señor Presidente, intervengo para referirme al artículo 29 del Reglamento de esta Cámara, según el cual una exigencia fundamental para crear Grupos parlamentarios es que exista afinidad política entre todos sus miembros.\\n',\n",
       " 'es\\t(El Presidente interrumpe a la oradora)\\n',\n",
       " 'es\\t(HU) Muchas gracias.\\n',\n",
       " 'es\\tAl parecer, sus palabras no valían nada.\\n',\n",
       " 'es\\tApelo a la Comisaria para que siga dando forma a este punto principalmente.\\n',\n",
       " 'es\\tAproximadamente medio millón de hectáreas de masa forestal son arrasadas cada año por los incendios.\\n',\n",
       " 'es\\tCiertamente, tenía uno.\\n',\n",
       " 'es\\tConsideramos que resulta totalmente inaceptable.\\n',\n",
       " 'es\\tCreo que a partir de este reglamento son posibles verdaderos progresos, quizá haya algunos otros que puedan ir más lejos.\\n',\n",
       " 'es\\tCreo que hay que evitar varias cosas.\\n',\n",
       " 'es\\tDe Jericó a Ramallah yo tardaba normalmente 20 minutos.\\n',\n",
       " 'es\\tDebe existir al menos una garantía de que el capital acumulado se pagará, aunque no aumente o crezca.\\n',\n",
       " 'es\\tEl Parlamento trata muchos asuntos que parecen ser sumamente técnicos y, a primera vista, no son prioritarios en muchos programas políticos; este es quizás un asunto de este tipo.\\n',\n",
       " 'es\\tEl Reglamento me parece muy claro.\\n',\n",
       " 'es\\tEl quinto tiene que ser claramente mejor.\\n',\n",
       " 'es\\tEn virtud de cualquier norma de buenas prácticas, si un juguete no es fehacientemente seguro o si es, de hecho, peligroso, dicho etiquetado no es únicamente insultante, sino abiertamente fraudulento.\\n',\n",
       " 'es\\tEs urgente que tenga una política que garantice la estabilidad, no solamente para Chechenia sino también para Chechenia a partir de Georgia, a partir de Azerbayán, a partir de Armenia.\\n',\n",
       " 'es\\tEstamos intentando usar una herramienta parlamentaria clásica para controlar al ejecutivo.\\n',\n",
       " 'es\\tEste desmantelamiento sólo se ha perseguido con gran coraje político y con graves riesgos políticos.\\n',\n",
       " 'es\\tEsto es claramente positivo.\\n',\n",
       " 'es\\tEsto sería algo muy apetecible para la prensa alemana.\\n',\n",
       " 'es\\tGracias, señora Morgantini.\\n',\n",
       " 'es\\tHasta que Turquía tenga un programa nacional para remediar todos estos defectos, hemos de albergar serias dudas sobre su voluntad de empezar a aceptar nuestras reglas.\\n',\n",
       " 'es\\tLa Europa actual necesita romper con las percepciones conservadoras, gerenciales y neoliberales.\\n']"
      ]
     },
     "execution_count": 9,
     "metadata": {},
     "output_type": "execute_result"
    }
   ],
   "source": [
    "wrong[:100]"
   ]
  },
  {
   "cell_type": "code",
   "execution_count": 16,
   "metadata": {},
   "outputs": [
    {
     "data": {
      "text/plain": [
       "('lv',\n",
       " {'bg': 0.029566604936870071,\n",
       "  'cs': 1.6214316520494632,\n",
       "  'da': 0.72348926960601834,\n",
       "  'de': 2.3667167684299297,\n",
       "  'el': 0.016398435782693031,\n",
       "  'en': 2.9532205524360253,\n",
       "  'es': 6.9461597385406693,\n",
       "  'et': 2.3893612345016981,\n",
       "  'fi': 1.0475649261740034,\n",
       "  'fr': 1.6082268071801555,\n",
       "  'hu': 1.1005144545878802,\n",
       "  'it': 1.3293740532151299,\n",
       "  'lt': 6.1341335470797658,\n",
       "  'lv': 8.8144765458883079,\n",
       "  'nl': 0.91409073351924242,\n",
       "  'pl': 2.4854553465143754,\n",
       "  'pt': 6.237788986067474,\n",
       "  'ro': 1.1896336159464347,\n",
       "  'sk': 2.2514635366922913,\n",
       "  'sl': 1.3769669298445464,\n",
       "  'sv': 1.2755310487204443})"
      ]
     },
     "execution_count": 16,
     "metadata": {},
     "output_type": "execute_result"
    }
   ],
   "source": [
    "scores(\"Muchas gracias.\")"
   ]
  },
  {
   "cell_type": "code",
   "execution_count": 15,
   "metadata": {},
   "outputs": [
    {
     "data": {
      "text/plain": [
       "('pt',\n",
       " {'bg': 0.0070445864717502147,\n",
       "  'cs': 0.01181806068611378,\n",
       "  'da': 0.0087205997586638322,\n",
       "  'de': 0.082292338503806753,\n",
       "  'el': 0.0027910436223608768,\n",
       "  'en': 0.50739043678325668,\n",
       "  'es': 8.1265757792894178,\n",
       "  'et': 0.052033998556196157,\n",
       "  'fi': 0.019663241459607565,\n",
       "  'fr': 7.6260142657427679,\n",
       "  'hu': 0.015934869273284764,\n",
       "  'it': 3.0013755764429653,\n",
       "  'lt': 0.01535534739828168,\n",
       "  'lv': 0.021844216205068118,\n",
       "  'nl': 0.013518619345270011,\n",
       "  'pl': 0.13329172204810166,\n",
       "  'pt': 9.251621321930358,\n",
       "  'ro': 0.13782940394004417,\n",
       "  'sk': 0.015087348970211061,\n",
       "  'sl': 0.014744397791670073,\n",
       "  'sv': 0.006736866420695025})"
      ]
     },
     "execution_count": 15,
     "metadata": {},
     "output_type": "execute_result"
    }
   ],
   "source": [
    "scores(\"que\")"
   ]
  },
  {
   "cell_type": "code",
   "execution_count": null,
   "metadata": {
    "collapsed": true
   },
   "outputs": [],
   "source": []
  }
 ],
 "metadata": {
  "kernelspec": {
   "display_name": "Coconut (Python 3)",
   "language": "coconut",
   "name": "coconut3"
  },
  "language_info": {
   "codemirror_mode": {
    "name": "python",
    "version": 3.6
   },
   "file_extension": ".coco",
   "mimetype": "text/x-python3",
   "name": "coconut",
   "pygments_lexer": "coconut"
  }
 },
 "nbformat": 4,
 "nbformat_minor": 2
}
